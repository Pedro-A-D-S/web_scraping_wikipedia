{
 "cells": [
  {
   "cell_type": "markdown",
   "metadata": {},
   "source": [
    "# Imports"
   ]
  },
  {
   "cell_type": "code",
   "execution_count": null,
   "metadata": {},
   "outputs": [],
   "source": [
    "import pandas as pd\n",
    "import yaml\n",
    "import plotly_express as px"
   ]
  },
  {
   "cell_type": "markdown",
   "metadata": {},
   "source": [
    "# Set-up"
   ]
  },
  {
   "cell_type": "code",
   "execution_count": null,
   "metadata": {},
   "outputs": [],
   "source": [
    "with open('../config/path.yaml', 'r') as f:\n",
    "    config = yaml.safe_load(f)"
   ]
  },
  {
   "cell_type": "markdown",
   "metadata": {},
   "source": [
    "# Get Data"
   ]
  },
  {
   "cell_type": "code",
   "execution_count": null,
   "metadata": {},
   "outputs": [],
   "source": [
    "df = pd.read_csv(config['df']['save'])"
   ]
  },
  {
   "cell_type": "markdown",
   "metadata": {},
   "source": [
    "# Visualizing Data"
   ]
  },
  {
   "cell_type": "code",
   "execution_count": null,
   "metadata": {},
   "outputs": [],
   "source": [
    "df"
   ]
  },
  {
   "cell_type": "markdown",
   "metadata": {},
   "source": [
    "## Creating top 10 countries dataset"
   ]
  },
  {
   "cell_type": "code",
   "execution_count": null,
   "metadata": {},
   "outputs": [],
   "source": [
    "top_10_countries = df.groupby(by = 'Country',\n",
    "                              as_index = False).agg({'Band':'count'}).sort_values(by = 'Band',\n",
    "                                                                                  ascending = False).head(10)"
   ]
  },
  {
   "cell_type": "markdown",
   "metadata": {},
   "source": [
    "## Creating formed bands dataset"
   ]
  },
  {
   "cell_type": "code",
   "execution_count": null,
   "metadata": {},
   "outputs": [],
   "source": [
    "formed_bands = df.groupby(by = 'Formed',\n",
    "                          as_index = False).agg({'Band':'count'}).sort_values(by = 'Band',\n",
    "                                                                              ascending = False)"
   ]
  },
  {
   "cell_type": "markdown",
   "metadata": {},
   "source": [
    "## Creating continents percentage datasets"
   ]
  },
  {
   "cell_type": "code",
   "execution_count": null,
   "metadata": {},
   "outputs": [],
   "source": [
    "continents = df.groupby(by = 'Continent',\n",
    "                        as_index = False).agg({'Band':'count'}).sort_values(by = 'Band',\n",
    "                                                                            ascending = False)\n",
    "continents['percent'] = ((continents['Band'] / continents['Band'].sum()) * 100).round(2)"
   ]
  },
  {
   "cell_type": "markdown",
   "metadata": {},
   "source": [
    "# Charts"
   ]
  },
  {
   "cell_type": "code",
   "execution_count": null,
   "metadata": {},
   "outputs": [],
   "source": [
    "fig = px.bar(data_frame = top_10_countries, x = 'Country', y = 'Band', text_auto = True,\n",
    "                   template = 'plotly_dark', range_y = [0, 13])\n",
    "\n",
    "fig.update_xaxes(categoryorder = 'total descending')\n",
    "fig.update_yaxes(showticklabels = False)\n",
    "\n",
    "fig.update_layout(\n",
    "    title = {\n",
    "        'text': \"Top 10 countries\"},\n",
    "    xaxis_title = 'Countries',\n",
    "    yaxis_title = 'Number of bands',\n",
    "    width = 1200,\n",
    "    height = 500,\n",
    "    font_family=\"Arial\",\n",
    "    font_color=\"White\",\n",
    "    font = dict(size = 18),\n",
    "    title_font_family=\"Arial\",\n",
    "    title_font_color= \"White\")\n",
    "\n",
    "fig.update_traces(textposition = 'outside', textfont_size = 16, marker_color = '#75141a')\n",
    "\n",
    "fig.show()"
   ]
  },
  {
   "cell_type": "code",
   "execution_count": null,
   "metadata": {},
   "outputs": [],
   "source": [
    "fig = px.bar(data_frame = formed_bands, x = 'Formed', y = 'Band', text_auto = True,\n",
    "                   template = 'plotly_dark', range_y = [0, 10])\n",
    "\n",
    "fig.update_xaxes(categoryorder = 'total descending')\n",
    "fig.update_yaxes(showticklabels = False)\n",
    "\n",
    "fig.update_layout(\n",
    "    title = {\n",
    "        'text': \"Top 10 years of formed bands\"},\n",
    "    xaxis_title = 'Years',\n",
    "    yaxis_title = 'Number of bands',\n",
    "    width = 1200,\n",
    "    height = 500,\n",
    "    font_family=\"Arial\",\n",
    "    font_color=\"White\",\n",
    "    font = dict(size = 18),\n",
    "    title_font_family=\"Arial\",\n",
    "    title_font_color= \"White\")\n",
    "\n",
    "fig.update_traces(textposition = 'outside', textfont_size = 16, marker_color = '#75141a')\n",
    "\n",
    "fig.show()"
   ]
  },
  {
   "cell_type": "code",
   "execution_count": null,
   "metadata": {},
   "outputs": [],
   "source": [
    "fig = px.pie(data_frame = continents, values = 'percent', names = 'Continent',\n",
    "title = 'Number of bands by continents',\n",
    " template = 'plotly_dark', color_discrete_sequence = px.colors.sequential.RdBu)\n",
    "\n",
    "fig.update_traces(textposition = 'outside', textinfo = 'percent+label')\n",
    "\n",
    "fig.show()"
   ]
  },
  {
   "cell_type": "code",
   "execution_count": null,
   "metadata": {},
   "outputs": [],
   "source": []
  }
 ],
 "metadata": {
  "kernelspec": {
   "display_name": "Python 3.10.4 64-bit",
   "language": "python",
   "name": "python3"
  },
  "language_info": {
   "codemirror_mode": {
    "name": "ipython",
    "version": 3
   },
   "file_extension": ".py",
   "mimetype": "text/x-python",
   "name": "python",
   "nbconvert_exporter": "python",
   "pygments_lexer": "ipython3",
   "version": "3.10.12"
  },
  "orig_nbformat": 4,
  "vscode": {
   "interpreter": {
    "hash": "c3503f95e0e8f4afdf6702396a7a2a29cae9f67572acfe092405dcaa2579b817"
   }
  }
 },
 "nbformat": 4,
 "nbformat_minor": 2
}
